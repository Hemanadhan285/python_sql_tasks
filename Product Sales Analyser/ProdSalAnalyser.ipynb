{
 "cells": [
  {
   "cell_type": "code",
   "execution_count": 7,
   "id": "55178bb1",
   "metadata": {},
   "outputs": [],
   "source": [
    "import pandas as pd"
   ]
  },
  {
   "cell_type": "code",
   "execution_count": 8,
   "id": "d1679e1d",
   "metadata": {},
   "outputs": [
    {
     "data": {
      "text/html": [
       "<div>\n",
       "<style scoped>\n",
       "    .dataframe tbody tr th:only-of-type {\n",
       "        vertical-align: middle;\n",
       "    }\n",
       "\n",
       "    .dataframe tbody tr th {\n",
       "        vertical-align: top;\n",
       "    }\n",
       "\n",
       "    .dataframe thead th {\n",
       "        text-align: right;\n",
       "    }\n",
       "</style>\n",
       "<table border=\"1\" class=\"dataframe\">\n",
       "  <thead>\n",
       "    <tr style=\"text-align: right;\">\n",
       "      <th></th>\n",
       "      <th>sale_id</th>\n",
       "      <th>product_id</th>\n",
       "      <th>units_sold</th>\n",
       "      <th>price_per_unit</th>\n",
       "      <th>sale_date</th>\n",
       "    </tr>\n",
       "  </thead>\n",
       "  <tbody>\n",
       "    <tr>\n",
       "      <th>0</th>\n",
       "      <td>1001</td>\n",
       "      <td>PROD1058</td>\n",
       "      <td>10</td>\n",
       "      <td>18245</td>\n",
       "      <td>2024-09-25</td>\n",
       "    </tr>\n",
       "    <tr>\n",
       "      <th>1</th>\n",
       "      <td>1002</td>\n",
       "      <td>PROD1074</td>\n",
       "      <td>7</td>\n",
       "      <td>52726</td>\n",
       "      <td>2025-06-09</td>\n",
       "    </tr>\n",
       "    <tr>\n",
       "      <th>2</th>\n",
       "      <td>1003</td>\n",
       "      <td>PROD1062</td>\n",
       "      <td>4</td>\n",
       "      <td>38671</td>\n",
       "      <td>2024-08-20</td>\n",
       "    </tr>\n",
       "    <tr>\n",
       "      <th>3</th>\n",
       "      <td>1004</td>\n",
       "      <td>PROD1056</td>\n",
       "      <td>7</td>\n",
       "      <td>37118</td>\n",
       "      <td>2023-11-25</td>\n",
       "    </tr>\n",
       "    <tr>\n",
       "      <th>4</th>\n",
       "      <td>1005</td>\n",
       "      <td>PROD1011</td>\n",
       "      <td>8</td>\n",
       "      <td>68895</td>\n",
       "      <td>2023-12-29</td>\n",
       "    </tr>\n",
       "  </tbody>\n",
       "</table>\n",
       "</div>"
      ],
      "text/plain": [
       "   sale_id product_id  units_sold  price_per_unit   sale_date\n",
       "0     1001   PROD1058          10           18245  2024-09-25\n",
       "1     1002   PROD1074           7           52726  2025-06-09\n",
       "2     1003   PROD1062           4           38671  2024-08-20\n",
       "3     1004   PROD1056           7           37118  2023-11-25\n",
       "4     1005   PROD1011           8           68895  2023-12-29"
      ]
     },
     "execution_count": 8,
     "metadata": {},
     "output_type": "execute_result"
    }
   ],
   "source": [
    "Product = pd.read_csv('../products.csv')\n",
    "Sales = pd.read_csv('../sales.csv')\n",
    "Product.head()\n",
    "Sales.head()"
   ]
  },
  {
   "cell_type": "code",
   "execution_count": 9,
   "id": "2d4d8f1d",
   "metadata": {},
   "outputs": [
    {
     "data": {
      "text/plain": [
       "product_id      0\n",
       "product_name    0\n",
       "category        0\n",
       "dtype: int64"
      ]
     },
     "execution_count": 9,
     "metadata": {},
     "output_type": "execute_result"
    }
   ],
   "source": [
    "Product.isnull().sum()"
   ]
  },
  {
   "cell_type": "code",
   "execution_count": 10,
   "id": "6643a278",
   "metadata": {},
   "outputs": [
    {
     "data": {
      "text/plain": [
       "sale_id           0\n",
       "product_id        0\n",
       "units_sold        0\n",
       "price_per_unit    0\n",
       "sale_date         0\n",
       "dtype: int64"
      ]
     },
     "execution_count": 10,
     "metadata": {},
     "output_type": "execute_result"
    }
   ],
   "source": [
    "Sales.isnull().sum()"
   ]
  },
  {
   "cell_type": "code",
   "execution_count": 11,
   "id": "2fe828c4",
   "metadata": {},
   "outputs": [
    {
     "data": {
      "text/plain": [
       "<bound method NDFrame.describe of    product_id product_name     category\n",
       "0    PROD1001          The     Clothing\n",
       "1    PROD1002     Actually     Clothing\n",
       "2    PROD1003         Read     Clothing\n",
       "3    PROD1004     Election         Toys\n",
       "4    PROD1005     Somebody  Electronics\n",
       "..        ...          ...          ...\n",
       "95   PROD1096        Great  Electronics\n",
       "96   PROD1097       Parent         Toys\n",
       "97   PROD1098         Make     Clothing\n",
       "98   PROD1099       Entire         Toys\n",
       "99   PROD1100      Product  Electronics\n",
       "\n",
       "[100 rows x 3 columns]>"
      ]
     },
     "execution_count": 11,
     "metadata": {},
     "output_type": "execute_result"
    }
   ],
   "source": [
    "Product.describe"
   ]
  },
  {
   "cell_type": "code",
   "execution_count": 12,
   "id": "3b5f0c52",
   "metadata": {},
   "outputs": [
    {
     "data": {
      "text/plain": [
       "<bound method NDFrame.describe of      sale_id product_id  units_sold  price_per_unit   sale_date\n",
       "0       1001   PROD1058          10           18245  2024-09-25\n",
       "1       1002   PROD1074           7           52726  2025-06-09\n",
       "2       1003   PROD1062           4           38671  2024-08-20\n",
       "3       1004   PROD1056           7           37118  2023-11-25\n",
       "4       1005   PROD1011           8           68895  2023-12-29\n",
       "..       ...        ...         ...             ...         ...\n",
       "995     1996   PROD1027           2           24859  2024-09-13\n",
       "996     1997   PROD1079           6           10659  2025-06-08\n",
       "997     1998   PROD1074           9           30980  2024-03-14\n",
       "998     1999   PROD1043           3           20818  2023-11-26\n",
       "999     2000   PROD1041           4            9361  2024-11-06\n",
       "\n",
       "[1000 rows x 5 columns]>"
      ]
     },
     "execution_count": 12,
     "metadata": {},
     "output_type": "execute_result"
    }
   ],
   "source": [
    "Sales.describe"
   ]
  },
  {
   "cell_type": "code",
   "execution_count": 13,
   "metadata": {},
   "outputs": [
    {
     "data": {
      "text/plain": [
       "Index(['product_id', 'product_name', 'category'], dtype='object')"
      ]
     },
     "execution_count": 13,
     "metadata": {},
     "output_type": "execute_result"
    }
   ],
   "source": [
    "Product.columns"
   ]
  },
  {
   "cell_type": "code",
   "execution_count": 14,
   "id": "c8f51f48",
   "metadata": {},
   "outputs": [
    {
     "data": {
      "text/plain": [
       "Index(['sale_id', 'product_id', 'units_sold', 'price_per_unit', 'sale_date'], dtype='object')"
      ]
     },
     "execution_count": 14,
     "metadata": {},
     "output_type": "execute_result"
    }
   ],
   "source": [
    "Sales.columns"
   ]
  },
  {
   "cell_type": "code",
   "execution_count": 15,
   "id": "a3bc7196",
   "metadata": {},
   "outputs": [
    {
     "data": {
      "text/plain": [
       "sale_id            int64\n",
       "product_id        object\n",
       "units_sold         int64\n",
       "price_per_unit     int64\n",
       "sale_date         object\n",
       "dtype: object"
      ]
     },
     "execution_count": 15,
     "metadata": {},
     "output_type": "execute_result"
    }
   ],
   "source": [
    "Sales.dtypes"
   ]
  },
  {
   "cell_type": "code",
   "execution_count": 16,
   "id": "c5eefb71",
   "metadata": {},
   "outputs": [
    {
     "data": {
      "text/plain": [
       "sale_id                    int64\n",
       "product_id                object\n",
       "units_sold                 int64\n",
       "price_per_unit             int64\n",
       "sale_date         datetime64[ns]\n",
       "dtype: object"
      ]
     },
     "execution_count": 16,
     "metadata": {},
     "output_type": "execute_result"
    }
   ],
   "source": [
    "Sales['sale_date'] = pd.to_datetime(Sales['sale_date'])\n",
    "Sales.dtypes"
   ]
  },
  {
   "cell_type": "code",
   "execution_count": 17,
   "id": "a6c5892d",
   "metadata": {},
   "outputs": [],
   "source": [
    "merged = pd.merge(Product, Sales, on= 'product_id', how= 'inner')\n",
    "merged.to_csv(\"merged_prodsal.csv\", index= False)"
   ]
  },
  {
   "cell_type": "code",
   "execution_count": 18,
   "id": "bfc4e7ed",
   "metadata": {},
   "outputs": [
    {
     "data": {
      "text/html": [
       "<div>\n",
       "<style scoped>\n",
       "    .dataframe tbody tr th:only-of-type {\n",
       "        vertical-align: middle;\n",
       "    }\n",
       "\n",
       "    .dataframe tbody tr th {\n",
       "        vertical-align: top;\n",
       "    }\n",
       "\n",
       "    .dataframe thead th {\n",
       "        text-align: right;\n",
       "    }\n",
       "</style>\n",
       "<table border=\"1\" class=\"dataframe\">\n",
       "  <thead>\n",
       "    <tr style=\"text-align: right;\">\n",
       "      <th></th>\n",
       "      <th>product_id</th>\n",
       "      <th>product_name</th>\n",
       "      <th>category</th>\n",
       "      <th>sale_id</th>\n",
       "      <th>units_sold</th>\n",
       "      <th>price_per_unit</th>\n",
       "      <th>sale_date</th>\n",
       "    </tr>\n",
       "  </thead>\n",
       "  <tbody>\n",
       "    <tr>\n",
       "      <th>0</th>\n",
       "      <td>PROD1001</td>\n",
       "      <td>The</td>\n",
       "      <td>Clothing</td>\n",
       "      <td>1030</td>\n",
       "      <td>9</td>\n",
       "      <td>36440</td>\n",
       "      <td>2024-04-18</td>\n",
       "    </tr>\n",
       "    <tr>\n",
       "      <th>1</th>\n",
       "      <td>PROD1001</td>\n",
       "      <td>The</td>\n",
       "      <td>Clothing</td>\n",
       "      <td>1032</td>\n",
       "      <td>4</td>\n",
       "      <td>3525</td>\n",
       "      <td>2024-03-20</td>\n",
       "    </tr>\n",
       "    <tr>\n",
       "      <th>2</th>\n",
       "      <td>PROD1001</td>\n",
       "      <td>The</td>\n",
       "      <td>Clothing</td>\n",
       "      <td>1207</td>\n",
       "      <td>8</td>\n",
       "      <td>61821</td>\n",
       "      <td>2025-01-23</td>\n",
       "    </tr>\n",
       "    <tr>\n",
       "      <th>3</th>\n",
       "      <td>PROD1001</td>\n",
       "      <td>The</td>\n",
       "      <td>Clothing</td>\n",
       "      <td>1213</td>\n",
       "      <td>4</td>\n",
       "      <td>5257</td>\n",
       "      <td>2024-06-09</td>\n",
       "    </tr>\n",
       "    <tr>\n",
       "      <th>4</th>\n",
       "      <td>PROD1001</td>\n",
       "      <td>The</td>\n",
       "      <td>Clothing</td>\n",
       "      <td>1262</td>\n",
       "      <td>7</td>\n",
       "      <td>65599</td>\n",
       "      <td>2024-04-01</td>\n",
       "    </tr>\n",
       "  </tbody>\n",
       "</table>\n",
       "</div>"
      ],
      "text/plain": [
       "  product_id product_name  category  sale_id  units_sold  price_per_unit  \\\n",
       "0   PROD1001          The  Clothing     1030           9           36440   \n",
       "1   PROD1001          The  Clothing     1032           4            3525   \n",
       "2   PROD1001          The  Clothing     1207           8           61821   \n",
       "3   PROD1001          The  Clothing     1213           4            5257   \n",
       "4   PROD1001          The  Clothing     1262           7           65599   \n",
       "\n",
       "    sale_date  \n",
       "0  2024-04-18  \n",
       "1  2024-03-20  \n",
       "2  2025-01-23  \n",
       "3  2024-06-09  \n",
       "4  2024-04-01  "
      ]
     },
     "execution_count": 18,
     "metadata": {},
     "output_type": "execute_result"
    }
   ],
   "source": [
    "merged = pd.read_csv('merged_ProdSal.csv')\n",
    "merged.head()"
   ]
  },
  {
   "cell_type": "code",
   "execution_count": 19,
   "id": "f0f37c67",
   "metadata": {},
   "outputs": [
    {
     "name": "stdout",
     "output_type": "stream",
     "text": [
      "    product_id product_name     category  sale_id  units_sold  price_per_unit  \\\n",
      "40    PROD1005     Somebody  Electronics     1292           5           45248   \n",
      "41    PROD1005     Somebody  Electronics     1379           2           59169   \n",
      "42    PROD1005     Somebody  Electronics     1380           8            5577   \n",
      "43    PROD1005     Somebody  Electronics     1531           9           61269   \n",
      "44    PROD1005     Somebody  Electronics     1584           9           37015   \n",
      "..         ...          ...          ...      ...         ...             ...   \n",
      "995   PROD1100      Product  Electronics     1521           9           49715   \n",
      "996   PROD1100      Product  Electronics     1830           2           54268   \n",
      "997   PROD1100      Product  Electronics     1924           1           69667   \n",
      "998   PROD1100      Product  Electronics     1987           6           66588   \n",
      "999   PROD1100      Product  Electronics     1994           5            3721   \n",
      "\n",
      "      sale_date  \n",
      "40   2024-08-17  \n",
      "41   2024-02-18  \n",
      "42   2024-09-13  \n",
      "43   2025-06-16  \n",
      "44   2024-04-08  \n",
      "..          ...  \n",
      "995  2023-12-03  \n",
      "996  2023-09-10  \n",
      "997  2023-08-31  \n",
      "998  2023-12-18  \n",
      "999  2024-01-10  \n",
      "\n",
      "[263 rows x 7 columns]\n"
     ]
    }
   ],
   "source": [
    "filtered = merged[(merged['category'] == 'Electronics') & (merged['sale_date'] > '2023-01-01')]\n",
    "print(filtered)"
   ]
  },
  {
   "cell_type": "code",
   "execution_count": 20,
   "id": "657d228c",
   "metadata": {},
   "outputs": [
    {
     "data": {
      "text/html": [
       "<div>\n",
       "<style scoped>\n",
       "    .dataframe tbody tr th:only-of-type {\n",
       "        vertical-align: middle;\n",
       "    }\n",
       "\n",
       "    .dataframe tbody tr th {\n",
       "        vertical-align: top;\n",
       "    }\n",
       "\n",
       "    .dataframe thead th {\n",
       "        text-align: right;\n",
       "    }\n",
       "</style>\n",
       "<table border=\"1\" class=\"dataframe\">\n",
       "  <thead>\n",
       "    <tr style=\"text-align: right;\">\n",
       "      <th></th>\n",
       "      <th>product_id</th>\n",
       "      <th>product_name</th>\n",
       "      <th>category</th>\n",
       "      <th>sale_id</th>\n",
       "      <th>units_sold</th>\n",
       "      <th>price_per_unit</th>\n",
       "      <th>sale_date</th>\n",
       "    </tr>\n",
       "  </thead>\n",
       "  <tbody>\n",
       "    <tr>\n",
       "      <th>40</th>\n",
       "      <td>PROD1005</td>\n",
       "      <td>Somebody</td>\n",
       "      <td>Electronics</td>\n",
       "      <td>1292</td>\n",
       "      <td>5</td>\n",
       "      <td>45248</td>\n",
       "      <td>2024-08-17</td>\n",
       "    </tr>\n",
       "    <tr>\n",
       "      <th>41</th>\n",
       "      <td>PROD1005</td>\n",
       "      <td>Somebody</td>\n",
       "      <td>Electronics</td>\n",
       "      <td>1379</td>\n",
       "      <td>2</td>\n",
       "      <td>59169</td>\n",
       "      <td>2024-02-18</td>\n",
       "    </tr>\n",
       "    <tr>\n",
       "      <th>42</th>\n",
       "      <td>PROD1005</td>\n",
       "      <td>Somebody</td>\n",
       "      <td>Electronics</td>\n",
       "      <td>1380</td>\n",
       "      <td>8</td>\n",
       "      <td>5577</td>\n",
       "      <td>2024-09-13</td>\n",
       "    </tr>\n",
       "    <tr>\n",
       "      <th>43</th>\n",
       "      <td>PROD1005</td>\n",
       "      <td>Somebody</td>\n",
       "      <td>Electronics</td>\n",
       "      <td>1531</td>\n",
       "      <td>9</td>\n",
       "      <td>61269</td>\n",
       "      <td>2025-06-16</td>\n",
       "    </tr>\n",
       "    <tr>\n",
       "      <th>44</th>\n",
       "      <td>PROD1005</td>\n",
       "      <td>Somebody</td>\n",
       "      <td>Electronics</td>\n",
       "      <td>1584</td>\n",
       "      <td>9</td>\n",
       "      <td>37015</td>\n",
       "      <td>2024-04-08</td>\n",
       "    </tr>\n",
       "  </tbody>\n",
       "</table>\n",
       "</div>"
      ],
      "text/plain": [
       "   product_id product_name     category  sale_id  units_sold  price_per_unit  \\\n",
       "40   PROD1005     Somebody  Electronics     1292           5           45248   \n",
       "41   PROD1005     Somebody  Electronics     1379           2           59169   \n",
       "42   PROD1005     Somebody  Electronics     1380           8            5577   \n",
       "43   PROD1005     Somebody  Electronics     1531           9           61269   \n",
       "44   PROD1005     Somebody  Electronics     1584           9           37015   \n",
       "\n",
       "     sale_date  \n",
       "40  2024-08-17  \n",
       "41  2024-02-18  \n",
       "42  2024-09-13  \n",
       "43  2025-06-16  \n",
       "44  2024-04-08  "
      ]
     },
     "execution_count": 20,
     "metadata": {},
     "output_type": "execute_result"
    }
   ],
   "source": [
    "filtered.head(5)"
   ]
  },
  {
   "cell_type": "code",
   "execution_count": 21,
   "id": "b7de4cca",
   "metadata": {},
   "outputs": [
    {
     "name": "stderr",
     "output_type": "stream",
     "text": [
      "C:\\Users\\Hemanadhan\\AppData\\Local\\Temp\\ipykernel_31352\\2046892777.py:1: SettingWithCopyWarning: \n",
      "A value is trying to be set on a copy of a slice from a DataFrame.\n",
      "Try using .loc[row_indexer,col_indexer] = value instead\n",
      "\n",
      "See the caveats in the documentation: https://pandas.pydata.org/pandas-docs/stable/user_guide/indexing.html#returning-a-view-versus-a-copy\n",
      "  filtered['Total_Sales_Amount'] = filtered['units_sold']* filtered['price_per_unit']\n"
     ]
    },
    {
     "data": {
      "text/html": [
       "<div>\n",
       "<style scoped>\n",
       "    .dataframe tbody tr th:only-of-type {\n",
       "        vertical-align: middle;\n",
       "    }\n",
       "\n",
       "    .dataframe tbody tr th {\n",
       "        vertical-align: top;\n",
       "    }\n",
       "\n",
       "    .dataframe thead th {\n",
       "        text-align: right;\n",
       "    }\n",
       "</style>\n",
       "<table border=\"1\" class=\"dataframe\">\n",
       "  <thead>\n",
       "    <tr style=\"text-align: right;\">\n",
       "      <th></th>\n",
       "      <th>product_id</th>\n",
       "      <th>product_name</th>\n",
       "      <th>category</th>\n",
       "      <th>sale_id</th>\n",
       "      <th>units_sold</th>\n",
       "      <th>price_per_unit</th>\n",
       "      <th>sale_date</th>\n",
       "      <th>Total_Sales_Amount</th>\n",
       "    </tr>\n",
       "  </thead>\n",
       "  <tbody>\n",
       "    <tr>\n",
       "      <th>40</th>\n",
       "      <td>PROD1005</td>\n",
       "      <td>Somebody</td>\n",
       "      <td>Electronics</td>\n",
       "      <td>1292</td>\n",
       "      <td>5</td>\n",
       "      <td>45248</td>\n",
       "      <td>2024-08-17</td>\n",
       "      <td>226240</td>\n",
       "    </tr>\n",
       "    <tr>\n",
       "      <th>41</th>\n",
       "      <td>PROD1005</td>\n",
       "      <td>Somebody</td>\n",
       "      <td>Electronics</td>\n",
       "      <td>1379</td>\n",
       "      <td>2</td>\n",
       "      <td>59169</td>\n",
       "      <td>2024-02-18</td>\n",
       "      <td>118338</td>\n",
       "    </tr>\n",
       "    <tr>\n",
       "      <th>42</th>\n",
       "      <td>PROD1005</td>\n",
       "      <td>Somebody</td>\n",
       "      <td>Electronics</td>\n",
       "      <td>1380</td>\n",
       "      <td>8</td>\n",
       "      <td>5577</td>\n",
       "      <td>2024-09-13</td>\n",
       "      <td>44616</td>\n",
       "    </tr>\n",
       "    <tr>\n",
       "      <th>43</th>\n",
       "      <td>PROD1005</td>\n",
       "      <td>Somebody</td>\n",
       "      <td>Electronics</td>\n",
       "      <td>1531</td>\n",
       "      <td>9</td>\n",
       "      <td>61269</td>\n",
       "      <td>2025-06-16</td>\n",
       "      <td>551421</td>\n",
       "    </tr>\n",
       "    <tr>\n",
       "      <th>44</th>\n",
       "      <td>PROD1005</td>\n",
       "      <td>Somebody</td>\n",
       "      <td>Electronics</td>\n",
       "      <td>1584</td>\n",
       "      <td>9</td>\n",
       "      <td>37015</td>\n",
       "      <td>2024-04-08</td>\n",
       "      <td>333135</td>\n",
       "    </tr>\n",
       "  </tbody>\n",
       "</table>\n",
       "</div>"
      ],
      "text/plain": [
       "   product_id product_name     category  sale_id  units_sold  price_per_unit  \\\n",
       "40   PROD1005     Somebody  Electronics     1292           5           45248   \n",
       "41   PROD1005     Somebody  Electronics     1379           2           59169   \n",
       "42   PROD1005     Somebody  Electronics     1380           8            5577   \n",
       "43   PROD1005     Somebody  Electronics     1531           9           61269   \n",
       "44   PROD1005     Somebody  Electronics     1584           9           37015   \n",
       "\n",
       "     sale_date  Total_Sales_Amount  \n",
       "40  2024-08-17              226240  \n",
       "41  2024-02-18              118338  \n",
       "42  2024-09-13               44616  \n",
       "43  2025-06-16              551421  \n",
       "44  2024-04-08              333135  "
      ]
     },
     "execution_count": 21,
     "metadata": {},
     "output_type": "execute_result"
    }
   ],
   "source": [
    "filtered['Total_Sales_Amount'] = filtered['units_sold']* filtered['price_per_unit']\n",
    "\n",
    "filtered.head(5)"
   ]
  },
  {
   "cell_type": "code",
   "execution_count": 22,
   "id": "c9cf561c",
   "metadata": {},
   "outputs": [
    {
     "name": "stdout",
     "output_type": "stream",
     "text": [
      "category\n",
      "Electronics    52456926\n",
      "Name: Total_Sales_Amount, dtype: int64\n"
     ]
    }
   ],
   "source": [
    "total_sales_category = filtered.groupby('category')['Total_Sales_Amount'].sum()\n",
    "print(total_sales_category)"
   ]
  },
  {
   "cell_type": "code",
   "execution_count": 23,
   "id": "4c588eeb",
   "metadata": {},
   "outputs": [],
   "source": [
    "filtered.to_csv(\"filtered_sales_electronics.csv\", index= False)"
   ]
  },
  {
   "cell_type": "code",
   "execution_count": 24,
   "id": "20b4dc8d",
   "metadata": {},
   "outputs": [
    {
     "data": {
      "text/html": [
       "<div>\n",
       "<style scoped>\n",
       "    .dataframe tbody tr th:only-of-type {\n",
       "        vertical-align: middle;\n",
       "    }\n",
       "\n",
       "    .dataframe tbody tr th {\n",
       "        vertical-align: top;\n",
       "    }\n",
       "\n",
       "    .dataframe thead th {\n",
       "        text-align: right;\n",
       "    }\n",
       "</style>\n",
       "<table border=\"1\" class=\"dataframe\">\n",
       "  <thead>\n",
       "    <tr style=\"text-align: right;\">\n",
       "      <th></th>\n",
       "      <th>product_id</th>\n",
       "      <th>product_name</th>\n",
       "      <th>category</th>\n",
       "      <th>sale_id</th>\n",
       "      <th>units_sold</th>\n",
       "      <th>price_per_unit</th>\n",
       "      <th>sale_date</th>\n",
       "      <th>Total_Sales_Amount</th>\n",
       "    </tr>\n",
       "  </thead>\n",
       "  <tbody>\n",
       "    <tr>\n",
       "      <th>995</th>\n",
       "      <td>PROD1100</td>\n",
       "      <td>Product</td>\n",
       "      <td>Electronics</td>\n",
       "      <td>1521</td>\n",
       "      <td>9</td>\n",
       "      <td>49715</td>\n",
       "      <td>2023-12-03</td>\n",
       "      <td>447435</td>\n",
       "    </tr>\n",
       "    <tr>\n",
       "      <th>996</th>\n",
       "      <td>PROD1100</td>\n",
       "      <td>Product</td>\n",
       "      <td>Electronics</td>\n",
       "      <td>1830</td>\n",
       "      <td>2</td>\n",
       "      <td>54268</td>\n",
       "      <td>2023-09-10</td>\n",
       "      <td>108536</td>\n",
       "    </tr>\n",
       "    <tr>\n",
       "      <th>997</th>\n",
       "      <td>PROD1100</td>\n",
       "      <td>Product</td>\n",
       "      <td>Electronics</td>\n",
       "      <td>1924</td>\n",
       "      <td>1</td>\n",
       "      <td>69667</td>\n",
       "      <td>2023-08-31</td>\n",
       "      <td>69667</td>\n",
       "    </tr>\n",
       "    <tr>\n",
       "      <th>998</th>\n",
       "      <td>PROD1100</td>\n",
       "      <td>Product</td>\n",
       "      <td>Electronics</td>\n",
       "      <td>1987</td>\n",
       "      <td>6</td>\n",
       "      <td>66588</td>\n",
       "      <td>2023-12-18</td>\n",
       "      <td>399528</td>\n",
       "    </tr>\n",
       "    <tr>\n",
       "      <th>999</th>\n",
       "      <td>PROD1100</td>\n",
       "      <td>Product</td>\n",
       "      <td>Electronics</td>\n",
       "      <td>1994</td>\n",
       "      <td>5</td>\n",
       "      <td>3721</td>\n",
       "      <td>2024-01-10</td>\n",
       "      <td>18605</td>\n",
       "    </tr>\n",
       "  </tbody>\n",
       "</table>\n",
       "</div>"
      ],
      "text/plain": [
       "    product_id product_name     category  sale_id  units_sold  price_per_unit  \\\n",
       "995   PROD1100      Product  Electronics     1521           9           49715   \n",
       "996   PROD1100      Product  Electronics     1830           2           54268   \n",
       "997   PROD1100      Product  Electronics     1924           1           69667   \n",
       "998   PROD1100      Product  Electronics     1987           6           66588   \n",
       "999   PROD1100      Product  Electronics     1994           5            3721   \n",
       "\n",
       "      sale_date  Total_Sales_Amount  \n",
       "995  2023-12-03              447435  \n",
       "996  2023-09-10              108536  \n",
       "997  2023-08-31               69667  \n",
       "998  2023-12-18              399528  \n",
       "999  2024-01-10               18605  "
      ]
     },
     "execution_count": 24,
     "metadata": {},
     "output_type": "execute_result"
    }
   ],
   "source": [
    "filtered_merge = pd.read_csv('filtered_sales.csv')\n",
    "filtered_merge.tail()"
   ]
  },
  {
   "cell_type": "code",
   "execution_count": 25,
   "id": "8cf5958f",
   "metadata": {},
   "outputs": [
    {
     "name": "stdout",
     "output_type": "stream",
     "text": [
      "<class 'pandas.core.frame.DataFrame'>\n",
      "RangeIndex: 1000 entries, 0 to 999\n",
      "Data columns (total 8 columns):\n",
      " #   Column              Non-Null Count  Dtype \n",
      "---  ------              --------------  ----- \n",
      " 0   product_id          1000 non-null   object\n",
      " 1   product_name        1000 non-null   object\n",
      " 2   category            1000 non-null   object\n",
      " 3   sale_id             1000 non-null   int64 \n",
      " 4   units_sold          1000 non-null   int64 \n",
      " 5   price_per_unit      1000 non-null   int64 \n",
      " 6   sale_date           1000 non-null   object\n",
      " 7   Total_Sales_Amount  1000 non-null   int64 \n",
      "dtypes: int64(4), object(4)\n",
      "memory usage: 62.6+ KB\n"
     ]
    }
   ],
   "source": [
    "filtered_merge.info()"
   ]
  },
  {
   "cell_type": "code",
   "execution_count": 26,
   "id": "94398d70",
   "metadata": {},
   "outputs": [
    {
     "data": {
      "text/html": [
       "<div>\n",
       "<style scoped>\n",
       "    .dataframe tbody tr th:only-of-type {\n",
       "        vertical-align: middle;\n",
       "    }\n",
       "\n",
       "    .dataframe tbody tr th {\n",
       "        vertical-align: top;\n",
       "    }\n",
       "\n",
       "    .dataframe thead th {\n",
       "        text-align: right;\n",
       "    }\n",
       "</style>\n",
       "<table border=\"1\" class=\"dataframe\">\n",
       "  <thead>\n",
       "    <tr style=\"text-align: right;\">\n",
       "      <th></th>\n",
       "      <th>product_id</th>\n",
       "      <th>product_name</th>\n",
       "      <th>category</th>\n",
       "      <th>sale_id</th>\n",
       "      <th>units_sold</th>\n",
       "      <th>price_per_unit</th>\n",
       "      <th>sale_date</th>\n",
       "      <th>Total_Sales_Amount</th>\n",
       "    </tr>\n",
       "  </thead>\n",
       "  <tbody>\n",
       "    <tr>\n",
       "      <th>0</th>\n",
       "      <td>PROD1001</td>\n",
       "      <td>The</td>\n",
       "      <td>Clothing</td>\n",
       "      <td>1030</td>\n",
       "      <td>9</td>\n",
       "      <td>36440</td>\n",
       "      <td>2024-04-18</td>\n",
       "      <td>327960</td>\n",
       "    </tr>\n",
       "    <tr>\n",
       "      <th>1</th>\n",
       "      <td>PROD1001</td>\n",
       "      <td>The</td>\n",
       "      <td>Clothing</td>\n",
       "      <td>1032</td>\n",
       "      <td>4</td>\n",
       "      <td>3525</td>\n",
       "      <td>2024-03-20</td>\n",
       "      <td>14100</td>\n",
       "    </tr>\n",
       "    <tr>\n",
       "      <th>2</th>\n",
       "      <td>PROD1001</td>\n",
       "      <td>The</td>\n",
       "      <td>Clothing</td>\n",
       "      <td>1207</td>\n",
       "      <td>8</td>\n",
       "      <td>61821</td>\n",
       "      <td>2025-01-23</td>\n",
       "      <td>494568</td>\n",
       "    </tr>\n",
       "    <tr>\n",
       "      <th>3</th>\n",
       "      <td>PROD1001</td>\n",
       "      <td>The</td>\n",
       "      <td>Clothing</td>\n",
       "      <td>1213</td>\n",
       "      <td>4</td>\n",
       "      <td>5257</td>\n",
       "      <td>2024-06-09</td>\n",
       "      <td>21028</td>\n",
       "    </tr>\n",
       "    <tr>\n",
       "      <th>4</th>\n",
       "      <td>PROD1001</td>\n",
       "      <td>The</td>\n",
       "      <td>Clothing</td>\n",
       "      <td>1262</td>\n",
       "      <td>7</td>\n",
       "      <td>65599</td>\n",
       "      <td>2024-04-01</td>\n",
       "      <td>459193</td>\n",
       "    </tr>\n",
       "  </tbody>\n",
       "</table>\n",
       "</div>"
      ],
      "text/plain": [
       "  product_id product_name  category  sale_id  units_sold  price_per_unit  \\\n",
       "0   PROD1001          The  Clothing     1030           9           36440   \n",
       "1   PROD1001          The  Clothing     1032           4            3525   \n",
       "2   PROD1001          The  Clothing     1207           8           61821   \n",
       "3   PROD1001          The  Clothing     1213           4            5257   \n",
       "4   PROD1001          The  Clothing     1262           7           65599   \n",
       "\n",
       "    sale_date  Total_Sales_Amount  \n",
       "0  2024-04-18              327960  \n",
       "1  2024-03-20               14100  \n",
       "2  2025-01-23              494568  \n",
       "3  2024-06-09               21028  \n",
       "4  2024-04-01              459193  "
      ]
     },
     "execution_count": 26,
     "metadata": {},
     "output_type": "execute_result"
    }
   ],
   "source": [
    "merged['Total_Sales_Amount'] = merged['units_sold']* merged['price_per_unit']\n",
    "\n",
    "merged.head(5)"
   ]
  },
  {
   "cell_type": "code",
   "execution_count": 27,
   "id": "89fe9878",
   "metadata": {},
   "outputs": [
    {
     "name": "stdout",
     "output_type": "stream",
     "text": [
      "category\n",
      "Clothing       42975488\n",
      "Electronics    52456926\n",
      "Home           53249665\n",
      "Toys           41905568\n",
      "Name: Total_Sales_Amount, dtype: int64\n"
     ]
    }
   ],
   "source": [
    "total_sales_category = merged.groupby('category')['Total_Sales_Amount'].sum()\n",
    "print(total_sales_category)"
   ]
  },
  {
   "cell_type": "code",
   "execution_count": 28,
   "id": "b759b28b",
   "metadata": {},
   "outputs": [],
   "source": [
    "merged.to_csv(\"filtered_sales_category.csv\", index= False)"
   ]
  },
  {
   "cell_type": "code",
   "execution_count": 29,
   "id": "d15a6dd3",
   "metadata": {},
   "outputs": [
    {
     "data": {
      "text/html": [
       "<div>\n",
       "<style scoped>\n",
       "    .dataframe tbody tr th:only-of-type {\n",
       "        vertical-align: middle;\n",
       "    }\n",
       "\n",
       "    .dataframe tbody tr th {\n",
       "        vertical-align: top;\n",
       "    }\n",
       "\n",
       "    .dataframe thead th {\n",
       "        text-align: right;\n",
       "    }\n",
       "</style>\n",
       "<table border=\"1\" class=\"dataframe\">\n",
       "  <thead>\n",
       "    <tr style=\"text-align: right;\">\n",
       "      <th></th>\n",
       "      <th>product_id</th>\n",
       "      <th>product_name</th>\n",
       "      <th>category</th>\n",
       "      <th>sale_id</th>\n",
       "      <th>units_sold</th>\n",
       "      <th>price_per_unit</th>\n",
       "      <th>sale_date</th>\n",
       "      <th>Total_Sales_Amount</th>\n",
       "    </tr>\n",
       "  </thead>\n",
       "  <tbody>\n",
       "    <tr>\n",
       "      <th>0</th>\n",
       "      <td>PROD1001</td>\n",
       "      <td>The</td>\n",
       "      <td>Clothing</td>\n",
       "      <td>1030</td>\n",
       "      <td>9</td>\n",
       "      <td>36440</td>\n",
       "      <td>2024-04-18</td>\n",
       "      <td>327960</td>\n",
       "    </tr>\n",
       "    <tr>\n",
       "      <th>1</th>\n",
       "      <td>PROD1001</td>\n",
       "      <td>The</td>\n",
       "      <td>Clothing</td>\n",
       "      <td>1032</td>\n",
       "      <td>4</td>\n",
       "      <td>3525</td>\n",
       "      <td>2024-03-20</td>\n",
       "      <td>14100</td>\n",
       "    </tr>\n",
       "    <tr>\n",
       "      <th>2</th>\n",
       "      <td>PROD1001</td>\n",
       "      <td>The</td>\n",
       "      <td>Clothing</td>\n",
       "      <td>1207</td>\n",
       "      <td>8</td>\n",
       "      <td>61821</td>\n",
       "      <td>2025-01-23</td>\n",
       "      <td>494568</td>\n",
       "    </tr>\n",
       "  </tbody>\n",
       "</table>\n",
       "</div>"
      ],
      "text/plain": [
       "  product_id product_name  category  sale_id  units_sold  price_per_unit  \\\n",
       "0   PROD1001          The  Clothing     1030           9           36440   \n",
       "1   PROD1001          The  Clothing     1032           4            3525   \n",
       "2   PROD1001          The  Clothing     1207           8           61821   \n",
       "\n",
       "    sale_date  Total_Sales_Amount  \n",
       "0  2024-04-18              327960  \n",
       "1  2024-03-20               14100  \n",
       "2  2025-01-23              494568  "
      ]
     },
     "execution_count": 29,
     "metadata": {},
     "output_type": "execute_result"
    }
   ],
   "source": [
    "filtered_sales_category = pd.read_csv(\"filtered_sales_category.csv\")\n",
    "filtered_sales_category.head(3)"
   ]
  },
  {
   "cell_type": "code",
   "execution_count": 30,
   "id": "99c7d6c5",
   "metadata": {},
   "outputs": [
    {
     "data": {
      "text/html": [
       "<div>\n",
       "<style scoped>\n",
       "    .dataframe tbody tr th:only-of-type {\n",
       "        vertical-align: middle;\n",
       "    }\n",
       "\n",
       "    .dataframe tbody tr th {\n",
       "        vertical-align: top;\n",
       "    }\n",
       "\n",
       "    .dataframe thead th {\n",
       "        text-align: right;\n",
       "    }\n",
       "</style>\n",
       "<table border=\"1\" class=\"dataframe\">\n",
       "  <thead>\n",
       "    <tr style=\"text-align: right;\">\n",
       "      <th></th>\n",
       "      <th>product_id</th>\n",
       "      <th>product_name</th>\n",
       "      <th>category</th>\n",
       "      <th>sale_id</th>\n",
       "      <th>units_sold</th>\n",
       "      <th>price_per_unit</th>\n",
       "      <th>sale_date</th>\n",
       "      <th>Total_Sales_Amount</th>\n",
       "    </tr>\n",
       "  </thead>\n",
       "  <tbody>\n",
       "    <tr>\n",
       "      <th>0</th>\n",
       "      <td>PROD1005</td>\n",
       "      <td>Somebody</td>\n",
       "      <td>Electronics</td>\n",
       "      <td>1292</td>\n",
       "      <td>5</td>\n",
       "      <td>45248</td>\n",
       "      <td>2024-08-17</td>\n",
       "      <td>226240</td>\n",
       "    </tr>\n",
       "    <tr>\n",
       "      <th>1</th>\n",
       "      <td>PROD1005</td>\n",
       "      <td>Somebody</td>\n",
       "      <td>Electronics</td>\n",
       "      <td>1379</td>\n",
       "      <td>2</td>\n",
       "      <td>59169</td>\n",
       "      <td>2024-02-18</td>\n",
       "      <td>118338</td>\n",
       "    </tr>\n",
       "    <tr>\n",
       "      <th>2</th>\n",
       "      <td>PROD1005</td>\n",
       "      <td>Somebody</td>\n",
       "      <td>Electronics</td>\n",
       "      <td>1380</td>\n",
       "      <td>8</td>\n",
       "      <td>5577</td>\n",
       "      <td>2024-09-13</td>\n",
       "      <td>44616</td>\n",
       "    </tr>\n",
       "  </tbody>\n",
       "</table>\n",
       "</div>"
      ],
      "text/plain": [
       "  product_id product_name     category  sale_id  units_sold  price_per_unit  \\\n",
       "0   PROD1005     Somebody  Electronics     1292           5           45248   \n",
       "1   PROD1005     Somebody  Electronics     1379           2           59169   \n",
       "2   PROD1005     Somebody  Electronics     1380           8            5577   \n",
       "\n",
       "    sale_date  Total_Sales_Amount  \n",
       "0  2024-08-17              226240  \n",
       "1  2024-02-18              118338  \n",
       "2  2024-09-13               44616  "
      ]
     },
     "execution_count": 30,
     "metadata": {},
     "output_type": "execute_result"
    }
   ],
   "source": [
    "filtered_sales_electronics = pd.read_csv(\"filtered_sales_electronics.csv\")\n",
    "filtered_sales_electronics.head(3)"
   ]
  },
  {
   "cell_type": "code",
   "execution_count": null,
   "id": "81d8d167",
   "metadata": {},
   "outputs": [
    {
     "ename": "NameError",
     "evalue": "name 'sqlite3' is not defined",
     "output_type": "error",
     "traceback": [
      "\u001b[31m---------------------------------------------------------------------------\u001b[39m",
      "\u001b[31mNameError\u001b[39m                                 Traceback (most recent call last)",
      "\u001b[36mCell\u001b[39m\u001b[36m \u001b[39m\u001b[32mIn[32]\u001b[39m\u001b[32m, line 1\u001b[39m\n\u001b[32m----> \u001b[39m\u001b[32m1\u001b[39m conn = \u001b[43msqlite3\u001b[49m.connect(\u001b[33m'\u001b[39m\u001b[33mProductData.db\u001b[39m\u001b[33m'\u001b[39m)\n\u001b[32m      2\u001b[39m Product.to_sql(\u001b[33m'\u001b[39m\u001b[33mproduct\u001b[39m\u001b[33m'\u001b[39m,conn, if_exists=\u001b[33m'\u001b[39m\u001b[33mreplace\u001b[39m\u001b[33m'\u001b[39m, index=\u001b[38;5;28;01mFalse\u001b[39;00m)\n\u001b[32m      3\u001b[39m conn.close()\n",
      "\u001b[31mNameError\u001b[39m: name 'sqlite3' is not defined"
     ]
    }
   ],
   "source": [
    "import sqlite3\n",
    "conn = sqlite3.connect('ProductData.db')\n",
    "Product.to_sql('product',conn, if_exists='replace', index=False)\n",
    "conn.close()\n"
   ]
  },
  {
   "cell_type": "code",
   "execution_count": null,
   "id": "f2679d05",
   "metadata": {},
   "outputs": [],
   "source": []
  }
 ],
 "metadata": {
  "kernelspec": {
   "display_name": "Python 3",
   "language": "python",
   "name": "python3"
  },
  "language_info": {
   "codemirror_mode": {
    "name": "ipython",
    "version": 3
   },
   "file_extension": ".py",
   "mimetype": "text/x-python",
   "name": "python",
   "nbconvert_exporter": "python",
   "pygments_lexer": "ipython3",
   "version": "3.12.9"
  }
 },
 "nbformat": 4,
 "nbformat_minor": 5
}
