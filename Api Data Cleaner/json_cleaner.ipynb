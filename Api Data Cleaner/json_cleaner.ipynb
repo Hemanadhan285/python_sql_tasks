{
 "cells": [
  {
   "cell_type": "code",
   "execution_count": 1,
   "id": "2782c50f",
   "metadata": {},
   "outputs": [],
   "source": [
    "import pandas as pd"
   ]
  },
  {
   "cell_type": "code",
   "execution_count": 2,
   "id": "fbc3f737",
   "metadata": {},
   "outputs": [
    {
     "data": {
      "text/html": [
       "<div>\n",
       "<style scoped>\n",
       "    .dataframe tbody tr th:only-of-type {\n",
       "        vertical-align: middle;\n",
       "    }\n",
       "\n",
       "    .dataframe tbody tr th {\n",
       "        vertical-align: top;\n",
       "    }\n",
       "\n",
       "    .dataframe thead th {\n",
       "        text-align: right;\n",
       "    }\n",
       "</style>\n",
       "<table border=\"1\" class=\"dataframe\">\n",
       "  <thead>\n",
       "    <tr style=\"text-align: right;\">\n",
       "      <th></th>\n",
       "      <th>id</th>\n",
       "      <th>name</th>\n",
       "      <th>email</th>\n",
       "    </tr>\n",
       "  </thead>\n",
       "  <tbody>\n",
       "    <tr>\n",
       "      <th>0</th>\n",
       "      <td>1</td>\n",
       "      <td>{'first': 'Monique', 'last': 'Taylor'}</td>\n",
       "      <td></td>\n",
       "    </tr>\n",
       "    <tr>\n",
       "      <th>1</th>\n",
       "      <td>2</td>\n",
       "      <td>{'first': 'Brittany', 'last': 'Reynolds'}</td>\n",
       "      <td>alexanderlong@example.com</td>\n",
       "    </tr>\n",
       "    <tr>\n",
       "      <th>2</th>\n",
       "      <td>3</td>\n",
       "      <td>{'first': 'Michael', 'last': 'Norman'}</td>\n",
       "      <td>jacksonlaura@example.com</td>\n",
       "    </tr>\n",
       "    <tr>\n",
       "      <th>3</th>\n",
       "      <td>4</td>\n",
       "      <td>Karen Kelley</td>\n",
       "      <td>fordmichael@example.org</td>\n",
       "    </tr>\n",
       "    <tr>\n",
       "      <th>4</th>\n",
       "      <td>5</td>\n",
       "      <td>{'first': 'Adrian', 'last': 'Berry'}</td>\n",
       "      <td>angelrodriguez@example.com</td>\n",
       "    </tr>\n",
       "  </tbody>\n",
       "</table>\n",
       "</div>"
      ],
      "text/plain": [
       "   id                                       name                       email\n",
       "0   1     {'first': 'Monique', 'last': 'Taylor'}                            \n",
       "1   2  {'first': 'Brittany', 'last': 'Reynolds'}   alexanderlong@example.com\n",
       "2   3     {'first': 'Michael', 'last': 'Norman'}    jacksonlaura@example.com\n",
       "3   4                             Karen Kelley       fordmichael@example.org\n",
       "4   5       {'first': 'Adrian', 'last': 'Berry'}  angelrodriguez@example.com"
      ]
     },
     "execution_count": 2,
     "metadata": {},
     "output_type": "execute_result"
    }
   ],
   "source": [
    "customers = pd.read_json('customers.json')\n",
    "customers.head()"
   ]
  },
  {
   "cell_type": "code",
   "execution_count": 3,
   "id": "d261e115",
   "metadata": {},
   "outputs": [
    {
     "data": {
      "text/plain": [
       "id       0\n",
       "name     0\n",
       "email    0\n",
       "dtype: int64"
      ]
     },
     "execution_count": 3,
     "metadata": {},
     "output_type": "execute_result"
    }
   ],
   "source": [
    "customers.isnull().sum()"
   ]
  },
  {
   "cell_type": "code",
   "execution_count": 4,
   "id": "a0bd6463",
   "metadata": {},
   "outputs": [
    {
     "data": {
      "text/plain": [
       "id        int64\n",
       "name     object\n",
       "email    object\n",
       "dtype: object"
      ]
     },
     "execution_count": 4,
     "metadata": {},
     "output_type": "execute_result"
    }
   ],
   "source": [
    "customers.dtypes"
   ]
  },
  {
   "cell_type": "code",
   "execution_count": 5,
   "id": "8816335c",
   "metadata": {},
   "outputs": [
    {
     "data": {
      "text/plain": [
       "name\n",
       "<class 'str'>     143\n",
       "<class 'dict'>     57\n",
       "Name: count, dtype: int64"
      ]
     },
     "execution_count": 5,
     "metadata": {},
     "output_type": "execute_result"
    }
   ],
   "source": [
    "customers['name'].apply(type).value_counts()"
   ]
  },
  {
   "cell_type": "code",
   "execution_count": 6,
   "id": "b0112123",
   "metadata": {},
   "outputs": [
    {
     "data": {
      "text/plain": [
       "email\n",
       "<class 'str'>    200\n",
       "Name: count, dtype: int64"
      ]
     },
     "execution_count": 6,
     "metadata": {},
     "output_type": "execute_result"
    }
   ],
   "source": [
    "customers['email'].apply(type).value_counts()"
   ]
  },
  {
   "cell_type": "code",
   "execution_count": 8,
   "id": "a0701094",
   "metadata": {},
   "outputs": [
    {
     "data": {
      "text/plain": [
       "np.int64(0)"
      ]
     },
     "execution_count": 8,
     "metadata": {},
     "output_type": "execute_result"
    }
   ],
   "source": [
    "customers['email'].isnull().sum()"
   ]
  },
  {
   "cell_type": "code",
   "execution_count": null,
   "id": "0368f3c1",
   "metadata": {},
   "outputs": [],
   "source": [
    "def normalize_name(name):\n",
    "    if isinstance(name, str):\n",
    "        return name.strip()\n",
    "    elif isinstance(name, dict):\n",
    "        first = name.get('first').strip()\n",
    "        last = name.get('last').strip()\n",
    "        return f\"{first} {last}\".strip()\n",
    "    else:\n",
    "        return \" \"\n",
    "    \n",
    "    "
   ]
  },
  {
   "cell_type": "code",
   "execution_count": 10,
   "id": "de496da2",
   "metadata": {},
   "outputs": [
    {
     "data": {
      "text/plain": [
       "0       Monique Taylor\n",
       "1    Brittany Reynolds\n",
       "2       Michael Norman\n",
       "3         Karen Kelley\n",
       "4         Adrian Berry\n",
       "Name: name, dtype: object"
      ]
     },
     "execution_count": 10,
     "metadata": {},
     "output_type": "execute_result"
    }
   ],
   "source": [
    "customers['name']= customers['name'].apply(normalize_name)\n",
    "customers['name'].head()"
   ]
  },
  {
   "cell_type": "code",
   "execution_count": 11,
   "id": "fad3510b",
   "metadata": {},
   "outputs": [
    {
     "name": "stdout",
     "output_type": "stream",
     "text": [
      "<class 'pandas.core.series.Series'>\n",
      "RangeIndex: 200 entries, 0 to 199\n",
      "Series name: email\n",
      "Non-Null Count  Dtype \n",
      "--------------  ----- \n",
      "200 non-null    object\n",
      "dtypes: object(1)\n",
      "memory usage: 1.7+ KB\n"
     ]
    }
   ],
   "source": [
    "customers['email'].info()"
   ]
  },
  {
   "cell_type": "code",
   "execution_count": 13,
   "id": "a4cb8545",
   "metadata": {},
   "outputs": [
    {
     "data": {
      "text/html": [
       "<div>\n",
       "<style scoped>\n",
       "    .dataframe tbody tr th:only-of-type {\n",
       "        vertical-align: middle;\n",
       "    }\n",
       "\n",
       "    .dataframe tbody tr th {\n",
       "        vertical-align: top;\n",
       "    }\n",
       "\n",
       "    .dataframe thead th {\n",
       "        text-align: right;\n",
       "    }\n",
       "</style>\n",
       "<table border=\"1\" class=\"dataframe\">\n",
       "  <thead>\n",
       "    <tr style=\"text-align: right;\">\n",
       "      <th></th>\n",
       "      <th>id</th>\n",
       "      <th>name</th>\n",
       "      <th>email</th>\n",
       "    </tr>\n",
       "  </thead>\n",
       "  <tbody>\n",
       "    <tr>\n",
       "      <th>1</th>\n",
       "      <td>2</td>\n",
       "      <td>Brittany Reynolds</td>\n",
       "      <td>alexanderlong@example.com</td>\n",
       "    </tr>\n",
       "    <tr>\n",
       "      <th>2</th>\n",
       "      <td>3</td>\n",
       "      <td>Michael Norman</td>\n",
       "      <td>jacksonlaura@example.com</td>\n",
       "    </tr>\n",
       "    <tr>\n",
       "      <th>3</th>\n",
       "      <td>4</td>\n",
       "      <td>Karen Kelley</td>\n",
       "      <td>fordmichael@example.org</td>\n",
       "    </tr>\n",
       "    <tr>\n",
       "      <th>4</th>\n",
       "      <td>5</td>\n",
       "      <td>Adrian Berry</td>\n",
       "      <td>angelrodriguez@example.com</td>\n",
       "    </tr>\n",
       "    <tr>\n",
       "      <th>5</th>\n",
       "      <td>6</td>\n",
       "      <td>Kathryn Holden</td>\n",
       "      <td>kimberlychambers@example.com</td>\n",
       "    </tr>\n",
       "  </tbody>\n",
       "</table>\n",
       "</div>"
      ],
      "text/plain": [
       "   id               name                         email\n",
       "1   2  Brittany Reynolds     alexanderlong@example.com\n",
       "2   3     Michael Norman      jacksonlaura@example.com\n",
       "3   4       Karen Kelley       fordmichael@example.org\n",
       "4   5       Adrian Berry    angelrodriguez@example.com\n",
       "5   6     Kathryn Holden  kimberlychambers@example.com"
      ]
     },
     "execution_count": 13,
     "metadata": {},
     "output_type": "execute_result"
    }
   ],
   "source": [
    "customers['email'] = customers['email'].astype(str).str.strip()\n",
    "customers = customers[customers['email'].notna() & (customers['email'] != \"\")]\n",
    "customers.head(5)"
   ]
  },
  {
   "cell_type": "code",
   "execution_count": 15,
   "id": "b27b2dea",
   "metadata": {},
   "outputs": [
    {
     "data": {
      "text/plain": [
       "id        int64\n",
       "name     object\n",
       "email    object\n",
       "dtype: object"
      ]
     },
     "execution_count": 15,
     "metadata": {},
     "output_type": "execute_result"
    }
   ],
   "source": [
    "customers.dtypes"
   ]
  },
  {
   "cell_type": "code",
   "execution_count": 17,
   "id": "dda1d52d",
   "metadata": {},
   "outputs": [],
   "source": [
    "cleaned_json = customers[['id','name','email']]"
   ]
  },
  {
   "cell_type": "code",
   "execution_count": null,
   "id": "c7f5f9e2",
   "metadata": {},
   "outputs": [],
   "source": [
    "cleaned_json.to_csv('cleaned_customers_json.csv', index=False)\n"
   ]
  },
  {
   "cell_type": "code",
   "execution_count": 23,
   "id": "2c36d52c",
   "metadata": {},
   "outputs": [],
   "source": [
    "cleaned_json.to_json('cleaned_customers_json.json',index=False)"
   ]
  }
 ],
 "metadata": {
  "kernelspec": {
   "display_name": "Python 3",
   "language": "python",
   "name": "python3"
  },
  "language_info": {
   "codemirror_mode": {
    "name": "ipython",
    "version": 3
   },
   "file_extension": ".py",
   "mimetype": "text/x-python",
   "name": "python",
   "nbconvert_exporter": "python",
   "pygments_lexer": "ipython3",
   "version": "3.12.9"
  }
 },
 "nbformat": 4,
 "nbformat_minor": 5
}
